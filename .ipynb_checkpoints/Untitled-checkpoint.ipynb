{
 "cells": [
  {
   "cell_type": "markdown",
   "metadata": {},
   "source": [
    "2017/10/28 AI.Punk\n",
    "## Problem 1. 计算$\\sum_{i=1}^{i=n}{i!}$\n",
    "\n",
    "尝试解决这个问题，我们先另n=4,在下面补全代码并给出结果。"
   ]
  },
  {
   "cell_type": "code",
   "execution_count": 5,
   "metadata": {},
   "outputs": [
    {
     "name": "stdout",
     "output_type": "stream",
     "text": [
      "1的阶乘是：1\n",
      "2的阶乘是：2\n",
      "3的阶乘是：6\n",
      "4的阶乘是：24\n",
      "阶乘和为:33\n"
     ]
    }
   ],
   "source": [
    "Sum = 0\n",
    "for i in range(1,5):\n",
    "    fac = 1\n",
    "    for j in range(1, i+1):\n",
    "        fac = fac * j\n",
    "    Sum = Sum + fac\n",
    "    print(str(i) + \"的阶乘是：\" + str(fac))\n",
    "print(\"阶乘和为:\" + str(Sum))"
   ]
  },
  {
   "cell_type": "markdown",
   "metadata": {},
   "source": [
    "但是这种实现方法并不够酷炫，我们希望将阶乘这么酷炫的操作变得逼格更高一些，于是我们介绍一下函数。"
   ]
  },
  {
   "cell_type": "code",
   "execution_count": 1,
   "metadata": {},
   "outputs": [],
   "source": [
    "def factorial(n):\n",
    "    ans = 1\n",
    "    for i in range(1,n+1):\n",
    "        ans *= i\n",
    "    return ans"
   ]
  },
  {
   "cell_type": "markdown",
   "metadata": {},
   "source": [
    "定义好阶乘函数后，阶乘和的代码就可以这样写："
   ]
  },
  {
   "cell_type": "code",
   "execution_count": 6,
   "metadata": {},
   "outputs": [
    {
     "name": "stdout",
     "output_type": "stream",
     "text": [
      "1的阶乘是：1\n",
      "2的阶乘是：2\n",
      "3的阶乘是：6\n",
      "4的阶乘是：24\n",
      "阶乘和为:33\n"
     ]
    }
   ],
   "source": [
    "Sum = 0\n",
    "for i in range(1,5):\n",
    "    Sum = Sum + factorial(i)\n",
    "    print(str(i) + \"的阶乘是：\" + str(factorial(i)))\n",
    "print(\"阶乘和为:\" + str(Sum))"
   ]
  },
  {
   "cell_type": "markdown",
   "metadata": {},
   "source": [
    "在自己的代码中增加对函数的使用可以大大提高代码的可阅读性与未来的可维护性与扩展性。<br>\n",
    "虽然函数的使用介绍到这里就已经结束了，但是我们仍会发现**阶乘和问题**的实现代码不够优雅。"
   ]
  },
  {
   "cell_type": "code",
   "execution_count": 11,
   "metadata": {},
   "outputs": [
    {
     "name": "stdout",
     "output_type": "stream",
     "text": [
      "1的阶乘是：1\n",
      "2的阶乘是：2\n",
      "3的阶乘是：6\n",
      "4的阶乘是：24\n",
      "阶乘和为:33\n"
     ]
    }
   ],
   "source": [
    "Sum = 0\n",
    "facs = [1 for i in range(0,5)]\n",
    "facs[0] = 1\n",
    "for i in range(1,5):\n",
    "    facs[i] = facs[i-1] * i \n",
    "    print(str(i) + \"的阶乘是：\" + str(facs[i]))\n",
    "print(\"阶乘和为:\" + str(sum(facs[1:5])))"
   ]
  },
  {
   "cell_type": "markdown",
   "metadata": {},
   "source": [
    "### 作业1\n",
    "定义一个“阶乘和函数”并尝试使用它。\n",
    "+ 函数有一个参数n\n",
    "+ 函数有一个返回值 $\\sum_{i}^{n}{i!}$\n",
    "+ 尝试用其它语言实现相同的功能并对比其与python的区别\n",
    "\n",
    "### 作业2\n",
    "定义一个“多项式求导的函数”。\n",
    "+ 函数有两个参数，第一个参数表示最高次数项的次数，第二个参数为一个列表，列表中包含每一个单项式的系数。\n",
    "+ 函数有一个返回值，为一个列表，即求到后各项的系数。\n",
    "\n",
    "输入样例：\n",
    "```\n",
    "Der(5,[4,3,0,2,-5,9])\n",
    "# 4X^5 + 3X^4 + 2X^2 -5X + 9\n",
    "```\n",
    "输出样例：\n",
    "```\n",
    "[0, 20, 12, 0, 4, -5]\n",
    "# 20X^4 + 12X^3 + X^4 -5\n",
    "```"
   ]
  },
  {
   "cell_type": "code",
   "execution_count": null,
   "metadata": {},
   "outputs": [],
   "source": []
  }
 ],
 "metadata": {
  "kernelspec": {
   "display_name": "Python 3",
   "language": "python",
   "name": "python3"
  },
  "language_info": {
   "codemirror_mode": {
    "name": "ipython",
    "version": 3
   },
   "file_extension": ".py",
   "mimetype": "text/x-python",
   "name": "python",
   "nbconvert_exporter": "python",
   "pygments_lexer": "ipython3",
   "version": "3.5.2"
  }
 },
 "nbformat": 4,
 "nbformat_minor": 2
}
